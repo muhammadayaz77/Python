{
 "cells": [
  {
   "cell_type": "markdown",
   "metadata": {},
   "source": [
    "Got it! Here's the simplest and cleanest Python program for linear regression using vector form of gradient descent, for single variate and multivariate, all in one."
   ]
  },
  {
   "cell_type": "code",
   "execution_count": null,
   "metadata": {},
   "outputs": [],
   "source": [
    "import numpy as np\n",
    "import pandas as pd\n",
    "import matplotlib.pyplot as plt\n",
    "\n",
    "# Load dataset (CSV must have multiple features and a target column 'y')\n",
    "df = pd.read_csv(\"data.csv\")\n",
    "\n",
    "# Separate input features (X) and target (y)\n",
    "X = df.drop(\"y\", axis=1).values  # Shape: (m, n)\n",
    "y = df[\"y\"].values.reshape(-1, 1)  # Shape: (m, 1)\n",
    "\n",
    "# Add bias column (ones) to X => shape becomes (m, n+1)\n",
    "m = X.shape[0]  # Number of examples\n",
    "X = np.hstack([np.ones((m, 1)), X])  # Add bias term (intercept)\n",
    "\n",
    "# Initialize parameters (theta): shape (n+1, 1)\n",
    "theta = np.zeros((X.shape[1], 1))\n",
    "\n",
    "# Hyperparameters\n",
    "alpha = 0.01       # Learning rate\n",
    "epochs = 1000      # Iterations\n",
    "cost_history = []  # To store cost at each step\n",
    "\n",
    "# Gradient Descent\n",
    "for _ in range(epochs):\n",
    "    predictions = X @ theta                      # y_hat = Xθ\n",
    "    errors = predictions - y                     # error = y_hat - y\n",
    "    gradient = (1/m) * (X.T @ errors)            # gradient = (1/m) * Xᵀ(Xθ - y)\n",
    "    theta -= alpha * gradient                    # theta update\n",
    "    cost = (1/(2*m)) * (errors.T @ errors)       # cost = (1/2m) * (Xθ - y)ᵀ(Xθ - y)\n",
    "    cost_history.append(cost[0, 0])\n",
    "\n",
    "# Final parameters\n",
    "print(\"Final θ (theta):\", theta.ravel())\n",
    "print(f\"Final equation: y = {theta[0][0]:.2f} + \" + \" + \".join([f\"{theta[i][0]:.2f}*x{i}\" for i in range(1, theta.shape[0])]))\n",
    "\n",
    "# Plot cost reduction\n",
    "plt.plot(cost_history)\n",
    "plt.xlabel(\"Iterations\")\n",
    "plt.ylabel(\"Cost\")\n",
    "plt.title(\"Cost Function Reduction Over Time\")\n",
    "plt.show()\n"
   ]
  }
 ],
 "metadata": {
  "language_info": {
   "name": "python"
  }
 },
 "nbformat": 4,
 "nbformat_minor": 2
}
