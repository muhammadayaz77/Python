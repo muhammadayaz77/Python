{
 "cells": [
  {
   "cell_type": "markdown",
   "metadata": {},
   "source": [
    "<h1>Test Data Creation\n",
    "</h1>"
   ]
  },
  {
   "cell_type": "code",
   "execution_count": 3,
   "metadata": {},
   "outputs": [
    {
     "name": "stdout",
     "output_type": "stream",
     "text": [
      "   Size  Bedrooms  Age  Price\n",
      "0  1400         3   20    245\n",
      "1  1600         3   15    312\n",
      "2  1700         3   18    279\n",
      "3  1875         4   25    308\n",
      "4  1100         2   10    199\n"
     ]
    }
   ],
   "source": [
    "import pandas as pd\n",
    "\n",
    "data = {\n",
    "    \"Size\": [1400, 1600, 1700, 1875, 1100, 1550, 2350, 2450, 1425, 1700],\n",
    "    \"Bedrooms\": [3, 3, 3, 4, 2, 3, 4, 4, 2, 3],\n",
    "    \"Age\": [20, 15, 18, 25, 10, 5, 30, 40, 15, 18],\n",
    "    \"Price\": [245, 312, 279, 308, 199, 219, 405, 410, 230, 300]\n",
    "}\n",
    "\n",
    "df = pd.DataFrame(data)\n",
    "print(df.head())  # Check if data is loading properly\n"
   ]
  },
  {
   "cell_type": "markdown",
   "metadata": {},
   "source": [
    "<h1>Test Matrix Operations\n",
    "</h1>"
   ]
  },
  {
   "cell_type": "code",
   "execution_count": 5,
   "metadata": {},
   "outputs": [
    {
     "name": "stdout",
     "output_type": "stream",
     "text": [
      "Feature Matrix:\n",
      " [[1.000e+00 1.400e+03 3.000e+00 2.000e+01]\n",
      " [1.000e+00 1.600e+03 3.000e+00 1.500e+01]\n",
      " [1.000e+00 1.700e+03 3.000e+00 1.800e+01]\n",
      " [1.000e+00 1.875e+03 4.000e+00 2.500e+01]\n",
      " [1.000e+00 1.100e+03 2.000e+00 1.000e+01]]\n",
      "Target Variable:\n",
      " [[245]\n",
      " [312]\n",
      " [279]\n",
      " [308]\n",
      " [199]]\n"
     ]
    }
   ],
   "source": [
    "import numpy as np\n",
    "\n",
    "X = df[[\"Size\", \"Bedrooms\", \"Age\"]].values\n",
    "Y = df[[\"Price\"]].values\n",
    "\n",
    "# Add bias term\n",
    "X = np.c_[np.ones((X.shape[0], 1)), X]\n",
    "\n",
    "print(\"Feature Matrix:\\n\", X[:5])  # Print first 5 rows\n",
    "print(\"Target Variable:\\n\", Y[:5])  # Print first 5 target values\n",
    "\n"
   ]
  },
  {
   "cell_type": "markdown",
   "metadata": {},
   "source": [
    "<h1>Check Normal Equation Calculation\n",
    "</h1>"
   ]
  },
  {
   "cell_type": "code",
   "execution_count": 6,
   "metadata": {},
   "outputs": [
    {
     "name": "stdout",
     "output_type": "stream",
     "text": [
      "Optimal Weights:\n",
      " [34.20468466  0.13083313 -0.69545492  1.74859264]\n"
     ]
    }
   ],
   "source": [
    "W = np.linalg.inv(X.T.dot(X)).dot(X.T).dot(Y)\n",
    "print(\"Optimal Weights:\\n\", W.flatten())\n",
    "\n"
   ]
  },
  {
   "cell_type": "markdown",
   "metadata": {},
   "source": [
    "<h1>Test Prediction Function\n",
    "</h1>"
   ]
  },
  {
   "cell_type": "code",
   "execution_count": 7,
   "metadata": {},
   "outputs": [
    {
     "name": "stdout",
     "output_type": "stream",
     "text": [
      "285.1038717920358\n"
     ]
    }
   ],
   "source": [
    "def predict_house_price(size, bedrooms, age):\n",
    "    new_data = np.array([[1, size, bedrooms, age]])\n",
    "    predicted_price = new_data.dot(W)\n",
    "    return predicted_price[0][0]\n",
    "\n",
    "print(predict_house_price(1800, 3, 10))  # Test prediction\n"
   ]
  },
  {
   "cell_type": "markdown",
   "metadata": {},
   "source": [
    "<h1>Check User Input\n",
    "</h1>"
   ]
  },
  {
   "cell_type": "code",
   "execution_count": 9,
   "metadata": {},
   "outputs": [
    {
     "name": "stdout",
     "output_type": "stream",
     "text": [
      "Predicted Price: $278.15K\n"
     ]
    }
   ],
   "source": [
    "size = float(input(\"Enter house size (sq ft): \"))\n",
    "bedrooms = int(input(\"Enter number of bedrooms: \"))\n",
    "age = int(input(\"Enter house age (years): \"))\n",
    "\n",
    "print(f\"Predicted Price: ${predict_house_price(size, bedrooms, age):.2f}K\")\n"
   ]
  },
  {
   "cell_type": "code",
   "execution_count": 1,
   "metadata": {},
   "outputs": [
    {
     "data": {
      "image/png": "[encoded data removed]",
      "text/plain": [
       "<Figure size 640x480 with 1 Axes>"
      ]
     },
     "metadata": {},
     "output_type": "display_data"
    },
    {
     "name": "stdout",
     "output_type": "stream",
     "text": [
      "Final equation:\n",
      " + (3.74)*x1 + (3.17)*x2 + (2.82)*x3 + (1.38)\n"
     ]
    }
   ],
   "source": [
    "import pandas as pd\n",
    "import numpy as np\n",
    "import matplotlib.pyplot as plt\n",
    "\n",
    "# Load dataset from CSV\n",
    "df = pd.read_csv(\"data.csv\")  # CSV should have multiple feature columns and a \"y\" column\n",
    "X = df.drop(\"y\", axis=1).values  # Features (inputs), shape (n_samples, n_features)\n",
    "y = df[\"y\"].values  # Target (output), shape (n_samples,)\n",
    "n = len(y)  # Number of data points\n",
    "\n",
    "# Initialize parameters\n",
    "w = np.zeros(X.shape[1])  # One weight per feature\n",
    "b = 0\n",
    "learning_rate = 0.01\n",
    "epochs = 1000\n",
    "\n",
    "# Cost function (Mean Squared Error)\n",
    "def compute_cost(X, y, w, b):\n",
    "    y_pred = X.dot(w) + b\n",
    "    return np.mean((y_pred - y) ** 2) / 2\n",
    "\n",
    "# Gradient Descent function\n",
    "def gradient_descent(X, y, w, b, alpha, epochs):\n",
    "    cost_history = []\n",
    "\n",
    "    for _ in range(epochs):\n",
    "        y_pred = X.dot(w) + b\n",
    "        error = y_pred - y\n",
    "\n",
    "        dw = X.T.dot(error) / n\n",
    "        db = np.sum(error) / n\n",
    "\n",
    "        # Update parameters\n",
    "        w -= alpha * dw\n",
    "        b -= alpha * db\n",
    "\n",
    "        # Store cost for visualization\n",
    "        cost_history.append(compute_cost(X, y, w, b))\n",
    "\n",
    "    return w, b, cost_history\n",
    "\n",
    "# Train model using gradient descent\n",
    "w_final, b_final, cost_history = gradient_descent(X, y, w, b, learning_rate, epochs)\n",
    "\n",
    "# Plot cost function over iterations\n",
    "plt.plot(cost_history)\n",
    "plt.xlabel(\"Iterations\")\n",
    "plt.ylabel(\"Cost\")\n",
    "plt.title(\"Cost Function Reduction Over Time (Multivariate)\")\n",
    "plt.show()\n",
    "\n",
    "# Final equation of the line (printed form only, no plot)\n",
    "print(\"Final equation:\")\n",
    "for i in range(len(w_final)):\n",
    "    print(f\" + ({w_final[i]:.2f})*x{i+1}\", end=\"\")\n",
    "print(f\" + ({b_final:.2f})\")\n",
    "\n"
   ]
  }
 ],
 "metadata": {
  "kernelspec": {
   "display_name": "Python 3",
   "language": "python",
   "name": "python3"
  },
  "language_info": {
   "codemirror_mode": {
    "name": "ipython",
    "version": 3
   },
   "file_extension": ".py",
   "mimetype": "text/x-python",
   "name": "python",
   "nbconvert_exporter": "python",
   "pygments_lexer": "ipython3",
   "version": "3.13.2"
  }
 },
 "nbformat": 4,
 "nbformat_minor": 2
}
