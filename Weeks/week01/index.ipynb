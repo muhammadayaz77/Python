{
 "cells": [
  {
   "cell_type": "code",
   "execution_count": 38,
   "metadata": {},
   "outputs": [],
   "source": [
    "import numpy as np \n",
    "import matplotlib.pyplot as plt\n"
   ]
  },
  {
   "cell_type": "code",
   "execution_count": 39,
   "metadata": {},
   "outputs": [],
   "source": [
    "X = np.loadtxt('ex2x.dat')\n",
    "Y = np.loadtxt('ex2y.dat')"
   ]
  },
  {
   "cell_type": "code",
   "execution_count": 40,
   "metadata": {},
   "outputs": [
    {
     "name": "stdout",
     "output_type": "stream",
     "text": [
      "X Values : \n",
      "[2.0658746 2.3684087 2.5399929 2.5420804 2.549079  2.7866882 2.9116825\n",
      " 3.035627  3.1146696 3.1582389 3.3275944 3.3793165 3.4122006 3.4215823\n",
      " 3.5315732 3.6393002 3.6732537 3.9256462 4.0498646 4.2483348 4.3440052\n",
      " 4.3826531 4.4230602 4.6102443 4.6881183 4.9777333 5.0359967 5.0684536\n",
      " 5.4161491 5.4395623 5.4563207 5.5698458 5.6015729 5.6877617 5.7215602\n",
      " 5.8538914 6.1978026 6.3510941 6.4797033 6.7383791 6.8637686 7.0223387\n",
      " 7.0782373 7.1514232 7.4664023 7.5973874 7.7440717 7.7729662 7.8264514\n",
      " 7.9306356]\n",
      "X Length : \n",
      "50\n",
      "X Type : \n",
      "<class 'numpy.ndarray'>\n",
      "X Shape : \n",
      "(50,)\n",
      "================()===============\n",
      "Y Values : \n",
      "[0.77918926 0.91596757 0.90538354 0.90566138 0.9389889  0.9668474\n",
      " 0.96436824 0.91445939 0.93933944 0.96074971 0.89837094 0.91209739\n",
      " 0.94238499 0.96624578 1.05265    1.0143791  0.95969426 0.96853716\n",
      " 1.0766065  1.1454978  1.0340625  1.0070009  0.96683648 1.0895919\n",
      " 1.0634462  1.1237239  1.0323374  1.0874452  1.0702988  1.1606493\n",
      " 1.0778037  1.1069758  1.0971875  1.1648603  1.1411796  1.0844156\n",
      " 1.1252493  1.1168341  1.1970789  1.2069462  1.1251046  1.1235672\n",
      " 1.2132829  1.2522652  1.2497065  1.1799706  1.1897299  1.3029934\n",
      " 1.2601134  1.2562267 ]\n",
      "X Length : \n",
      "50\n",
      "Y Type : \n",
      "<class 'numpy.ndarray'>\n",
      "Y Shape : \n",
      "(50,)\n"
     ]
    }
   ],
   "source": [
    "print(\"X Values : \")\n",
    "print(X)\n",
    "\n",
    "print(\"X Length : \")\n",
    "print(len(X))\n",
    "\n",
    "print(\"X Type : \")\n",
    "print(type(X))\n",
    "\n",
    "print(\"X Shape : \")\n",
    "print(X.shape)\n",
    "\n",
    "\n",
    "print(\"================()===============\")\n",
    "\n",
    "print(\"Y Values : \")\n",
    "\n",
    "print(Y)\n",
    "\n",
    "print(\"X Length : \")  \n",
    "print(len(Y))\n",
    "\n",
    "print(\"Y Type : \")\n",
    "print(type(Y))\n",
    "\n",
    "print(\"Y Shape : \")\n",
    "print(Y.shape)\n"
   ]
  },
  {
   "cell_type": "code",
   "execution_count": 41,
   "metadata": {},
   "outputs": [
    {
     "name": "stdout",
     "output_type": "stream",
     "text": [
      "(50, 1)\n",
      "(50, 1)\n"
     ]
    }
   ],
   "source": [
    "ones=np.ones([X.shape[0],1])\n",
    "print(ones.shape)\n",
    "X=X.reshape(X.shape[0],1)\n",
    "print(X.shape)"
   ]
  },
  {
   "cell_type": "code",
   "execution_count": 42,
   "metadata": {},
   "outputs": [],
   "source": [
    "X=np.concatenate((ones,X),axis=1)\n",
    "\n"
   ]
  },
  {
   "cell_type": "code",
   "execution_count": null,
   "metadata": {},
   "outputs": [],
   "source": [
    "def forward(x):\n",
    "    return np.dot(w,x)"
   ]
  },
  {
   "cell_type": "code",
   "execution_count": null,
   "metadata": {},
   "outputs": [],
   "source": [
    "f=forward(X.T)\n"
   ]
  }
 ],
 "metadata": {
  "kernelspec": {
   "display_name": "Python 3",
   "language": "python",
   "name": "python3"
  },
  "language_info": {
   "codemirror_mode": {
    "name": "ipython",
    "version": 3
   },
   "file_extension": ".py",
   "mimetype": "text/x-python",
   "name": "python",
   "nbconvert_exporter": "python",
   "pygments_lexer": "ipython3",
   "version": "3.13.2"
  }
 },
 "nbformat": 4,
 "nbformat_minor": 2
}
